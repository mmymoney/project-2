{
 "cells": [
  {
   "cell_type": "code",
   "execution_count": null,
   "metadata": {},
   "outputs": [],
   "source": [
    "import csv\n",
    "import json\n",
    "import sys\n",
    "\n",
    "file = 'Output.csv'\n",
    "tree = {}\n",
    "\n",
    "reader = csv.reader(open(sys.argv[1], 'rb'))\n",
    "reader.next() \n",
    "for row in reader:\n",
    "    subtree = tree\n",
    "    for i, cell in enumerate(row):\n",
    "        if cell:\n",
    "            if cell not in subtree:\n",
    "                subtree[cell] = {} if i<len(row)-1 else 1\n",
    "            subtree = subtree[cell]\n",
    "\n",
    "print(json.dumps(tree, indent=2))"
   ]
  }
 ],
 "metadata": {
  "kernelspec": {
   "display_name": "Python 3",
   "language": "python",
   "name": "python3"
  },
  "language_info": {
   "codemirror_mode": {
    "name": "ipython",
    "version": 3
   },
   "file_extension": ".py",
   "mimetype": "text/x-python",
   "name": "python",
   "nbconvert_exporter": "python",
   "pygments_lexer": "ipython3",
   "version": "3.7.4"
  }
 },
 "nbformat": 4,
 "nbformat_minor": 2
}
